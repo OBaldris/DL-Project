{
 "cells": [
  {
   "cell_type": "code",
   "execution_count": 2,
   "metadata": {},
   "outputs": [
    {
     "ename": "ValueError",
     "evalue": "could not broadcast input array from shape (262036,) into shape (24724,)",
     "output_type": "error",
     "traceback": [
      "\u001b[1;31m---------------------------------------------------------------------------\u001b[0m",
      "\u001b[1;31mValueError\u001b[0m                                Traceback (most recent call last)",
      "Cell \u001b[1;32mIn[2], line 1\u001b[0m\n\u001b[1;32m----> 1\u001b[0m \u001b[38;5;28;01mfrom\u001b[39;00m \u001b[38;5;21;01mData_loader\u001b[39;00m \u001b[38;5;28;01mimport\u001b[39;00m \u001b[38;5;241m*\u001b[39m\n",
      "File \u001b[1;32mc:\\Users\\Maria\\OneDrive\\Documents\\DTU classes\\A24\\DL\\Project GH\\DL-Project\\Data_loader.py:21\u001b[0m\n\u001b[0;32m     18\u001b[0m \u001b[38;5;66;03m#1. DOWNLOAD DATA\u001b[39;00m\n\u001b[0;32m     19\u001b[0m file_path \u001b[38;5;241m=\u001b[39m \u001b[38;5;124m\"\u001b[39m\u001b[38;5;124m../Data/ebnerd_demo\u001b[39m\u001b[38;5;124m\"\u001b[39m\n\u001b[1;32m---> 21\u001b[0m df_behaviors_train \u001b[38;5;241m=\u001b[39m \u001b[43mpd\u001b[49m\u001b[38;5;241;43m.\u001b[39;49m\u001b[43mread_parquet\u001b[49m\u001b[43m(\u001b[49m\u001b[43mfile_path\u001b[49m\u001b[43m \u001b[49m\u001b[38;5;241;43m+\u001b[39;49m\u001b[43m \u001b[49m\u001b[38;5;124;43m'\u001b[39;49m\u001b[38;5;124;43m/train\u001b[39;49m\u001b[38;5;124;43m'\u001b[39;49m\u001b[43m \u001b[49m\u001b[38;5;241;43m+\u001b[39;49m\u001b[43m \u001b[49m\u001b[38;5;124;43m'\u001b[39;49m\u001b[38;5;124;43m/behaviors.parquet\u001b[39;49m\u001b[38;5;124;43m'\u001b[39;49m\u001b[43m)\u001b[49m\n\u001b[0;32m     22\u001b[0m df_behaviors_validation \u001b[38;5;241m=\u001b[39m pd\u001b[38;5;241m.\u001b[39mread_parquet(file_path \u001b[38;5;241m+\u001b[39m \u001b[38;5;124m'\u001b[39m\u001b[38;5;124m/validation\u001b[39m\u001b[38;5;124m'\u001b[39m \u001b[38;5;241m+\u001b[39m \u001b[38;5;124m'\u001b[39m\u001b[38;5;124m/behaviors.parquet\u001b[39m\u001b[38;5;124m'\u001b[39m)\n\u001b[0;32m     24\u001b[0m df_history_train \u001b[38;5;241m=\u001b[39m pd\u001b[38;5;241m.\u001b[39mread_parquet(file_path \u001b[38;5;241m+\u001b[39m \u001b[38;5;124m'\u001b[39m\u001b[38;5;124m/train\u001b[39m\u001b[38;5;124m'\u001b[39m \u001b[38;5;241m+\u001b[39m \u001b[38;5;124m'\u001b[39m\u001b[38;5;124m/history.parquet\u001b[39m\u001b[38;5;124m'\u001b[39m)\n",
      "File \u001b[1;32mc:\\Users\\Maria\\anaconda3\\envs\\deep_learning\\Lib\\site-packages\\pandas\\io\\parquet.py:667\u001b[0m, in \u001b[0;36mread_parquet\u001b[1;34m(path, engine, columns, storage_options, use_nullable_dtypes, dtype_backend, filesystem, filters, **kwargs)\u001b[0m\n\u001b[0;32m    664\u001b[0m     use_nullable_dtypes \u001b[38;5;241m=\u001b[39m \u001b[38;5;28;01mFalse\u001b[39;00m\n\u001b[0;32m    665\u001b[0m check_dtype_backend(dtype_backend)\n\u001b[1;32m--> 667\u001b[0m \u001b[38;5;28;01mreturn\u001b[39;00m \u001b[43mimpl\u001b[49m\u001b[38;5;241;43m.\u001b[39;49m\u001b[43mread\u001b[49m\u001b[43m(\u001b[49m\n\u001b[0;32m    668\u001b[0m \u001b[43m    \u001b[49m\u001b[43mpath\u001b[49m\u001b[43m,\u001b[49m\n\u001b[0;32m    669\u001b[0m \u001b[43m    \u001b[49m\u001b[43mcolumns\u001b[49m\u001b[38;5;241;43m=\u001b[39;49m\u001b[43mcolumns\u001b[49m\u001b[43m,\u001b[49m\n\u001b[0;32m    670\u001b[0m \u001b[43m    \u001b[49m\u001b[43mfilters\u001b[49m\u001b[38;5;241;43m=\u001b[39;49m\u001b[43mfilters\u001b[49m\u001b[43m,\u001b[49m\n\u001b[0;32m    671\u001b[0m \u001b[43m    \u001b[49m\u001b[43mstorage_options\u001b[49m\u001b[38;5;241;43m=\u001b[39;49m\u001b[43mstorage_options\u001b[49m\u001b[43m,\u001b[49m\n\u001b[0;32m    672\u001b[0m \u001b[43m    \u001b[49m\u001b[43muse_nullable_dtypes\u001b[49m\u001b[38;5;241;43m=\u001b[39;49m\u001b[43muse_nullable_dtypes\u001b[49m\u001b[43m,\u001b[49m\n\u001b[0;32m    673\u001b[0m \u001b[43m    \u001b[49m\u001b[43mdtype_backend\u001b[49m\u001b[38;5;241;43m=\u001b[39;49m\u001b[43mdtype_backend\u001b[49m\u001b[43m,\u001b[49m\n\u001b[0;32m    674\u001b[0m \u001b[43m    \u001b[49m\u001b[43mfilesystem\u001b[49m\u001b[38;5;241;43m=\u001b[39;49m\u001b[43mfilesystem\u001b[49m\u001b[43m,\u001b[49m\n\u001b[0;32m    675\u001b[0m \u001b[43m    \u001b[49m\u001b[38;5;241;43m*\u001b[39;49m\u001b[38;5;241;43m*\u001b[39;49m\u001b[43mkwargs\u001b[49m\u001b[43m,\u001b[49m\n\u001b[0;32m    676\u001b[0m \u001b[43m\u001b[49m\u001b[43m)\u001b[49m\n",
      "File \u001b[1;32mc:\\Users\\Maria\\anaconda3\\envs\\deep_learning\\Lib\\site-packages\\pandas\\io\\parquet.py:403\u001b[0m, in \u001b[0;36mFastParquetImpl.read\u001b[1;34m(self, path, columns, filters, storage_options, filesystem, **kwargs)\u001b[0m\n\u001b[0;32m    401\u001b[0m \u001b[38;5;28;01mtry\u001b[39;00m:\n\u001b[0;32m    402\u001b[0m     parquet_file \u001b[38;5;241m=\u001b[39m \u001b[38;5;28mself\u001b[39m\u001b[38;5;241m.\u001b[39mapi\u001b[38;5;241m.\u001b[39mParquetFile(path, \u001b[38;5;241m*\u001b[39m\u001b[38;5;241m*\u001b[39mparquet_kwargs)\n\u001b[1;32m--> 403\u001b[0m     \u001b[38;5;28;01mreturn\u001b[39;00m \u001b[43mparquet_file\u001b[49m\u001b[38;5;241;43m.\u001b[39;49m\u001b[43mto_pandas\u001b[49m\u001b[43m(\u001b[49m\u001b[43mcolumns\u001b[49m\u001b[38;5;241;43m=\u001b[39;49m\u001b[43mcolumns\u001b[49m\u001b[43m,\u001b[49m\u001b[43m \u001b[49m\u001b[43mfilters\u001b[49m\u001b[38;5;241;43m=\u001b[39;49m\u001b[43mfilters\u001b[49m\u001b[43m,\u001b[49m\u001b[43m \u001b[49m\u001b[38;5;241;43m*\u001b[39;49m\u001b[38;5;241;43m*\u001b[39;49m\u001b[43mkwargs\u001b[49m\u001b[43m)\u001b[49m\n\u001b[0;32m    404\u001b[0m \u001b[38;5;28;01mfinally\u001b[39;00m:\n\u001b[0;32m    405\u001b[0m     \u001b[38;5;28;01mif\u001b[39;00m handles \u001b[38;5;129;01mis\u001b[39;00m \u001b[38;5;129;01mnot\u001b[39;00m \u001b[38;5;28;01mNone\u001b[39;00m:\n",
      "File \u001b[1;32mc:\\Users\\Maria\\anaconda3\\envs\\deep_learning\\Lib\\site-packages\\fastparquet\\api.py:790\u001b[0m, in \u001b[0;36mParquetFile.to_pandas\u001b[1;34m(self, columns, categories, filters, index, row_filter, dtypes)\u001b[0m\n\u001b[0;32m    786\u001b[0m         \u001b[38;5;28;01mcontinue\u001b[39;00m\n\u001b[0;32m    787\u001b[0m     parts \u001b[38;5;241m=\u001b[39m {name: (v \u001b[38;5;28;01mif\u001b[39;00m name\u001b[38;5;241m.\u001b[39mendswith(\u001b[38;5;124m'\u001b[39m\u001b[38;5;124m-catdef\u001b[39m\u001b[38;5;124m'\u001b[39m)\n\u001b[0;32m    788\u001b[0m                     \u001b[38;5;28;01melse\u001b[39;00m v[start:start \u001b[38;5;241m+\u001b[39m thislen])\n\u001b[0;32m    789\u001b[0m              \u001b[38;5;28;01mfor\u001b[39;00m (name, v) \u001b[38;5;129;01min\u001b[39;00m views\u001b[38;5;241m.\u001b[39mitems()}\n\u001b[1;32m--> 790\u001b[0m     \u001b[38;5;28;43mself\u001b[39;49m\u001b[38;5;241;43m.\u001b[39;49m\u001b[43mread_row_group_file\u001b[49m\u001b[43m(\u001b[49m\u001b[43mrg\u001b[49m\u001b[43m,\u001b[49m\u001b[43m \u001b[49m\u001b[43mcolumns\u001b[49m\u001b[43m,\u001b[49m\u001b[43m \u001b[49m\u001b[43mcategories\u001b[49m\u001b[43m,\u001b[49m\u001b[43m \u001b[49m\u001b[43mindex\u001b[49m\u001b[43m,\u001b[49m\n\u001b[0;32m    791\u001b[0m \u001b[43m                             \u001b[49m\u001b[43massign\u001b[49m\u001b[38;5;241;43m=\u001b[39;49m\u001b[43mparts\u001b[49m\u001b[43m,\u001b[49m\u001b[43m \u001b[49m\u001b[43mpartition_meta\u001b[49m\u001b[38;5;241;43m=\u001b[39;49m\u001b[38;5;28;43mself\u001b[39;49m\u001b[38;5;241;43m.\u001b[39;49m\u001b[43mpartition_meta\u001b[49m\u001b[43m,\u001b[49m\n\u001b[0;32m    792\u001b[0m \u001b[43m                             \u001b[49m\u001b[43mrow_filter\u001b[49m\u001b[38;5;241;43m=\u001b[39;49m\u001b[43msel\u001b[49m\u001b[43m,\u001b[49m\u001b[43m \u001b[49m\u001b[43minfile\u001b[49m\u001b[38;5;241;43m=\u001b[39;49m\u001b[43minfile\u001b[49m\u001b[43m)\u001b[49m\n\u001b[0;32m    793\u001b[0m     start \u001b[38;5;241m+\u001b[39m\u001b[38;5;241m=\u001b[39m thislen\n\u001b[0;32m    794\u001b[0m \u001b[38;5;28;01mreturn\u001b[39;00m df\n",
      "File \u001b[1;32mc:\\Users\\Maria\\anaconda3\\envs\\deep_learning\\Lib\\site-packages\\fastparquet\\api.py:388\u001b[0m, in \u001b[0;36mParquetFile.read_row_group_file\u001b[1;34m(self, rg, columns, categories, index, assign, partition_meta, row_filter, infile)\u001b[0m\n\u001b[0;32m    385\u001b[0m     ret \u001b[38;5;241m=\u001b[39m \u001b[38;5;28;01mTrue\u001b[39;00m\n\u001b[0;32m    386\u001b[0m f \u001b[38;5;241m=\u001b[39m infile \u001b[38;5;129;01mor\u001b[39;00m \u001b[38;5;28mself\u001b[39m\u001b[38;5;241m.\u001b[39mopen(fn, mode\u001b[38;5;241m=\u001b[39m\u001b[38;5;124m'\u001b[39m\u001b[38;5;124mrb\u001b[39m\u001b[38;5;124m'\u001b[39m)\n\u001b[1;32m--> 388\u001b[0m \u001b[43mcore\u001b[49m\u001b[38;5;241;43m.\u001b[39;49m\u001b[43mread_row_group\u001b[49m\u001b[43m(\u001b[49m\n\u001b[0;32m    389\u001b[0m \u001b[43m    \u001b[49m\u001b[43mf\u001b[49m\u001b[43m,\u001b[49m\u001b[43m \u001b[49m\u001b[43mrg\u001b[49m\u001b[43m,\u001b[49m\u001b[43m \u001b[49m\u001b[43mcolumns\u001b[49m\u001b[43m,\u001b[49m\u001b[43m \u001b[49m\u001b[43mcategories\u001b[49m\u001b[43m,\u001b[49m\u001b[43m \u001b[49m\u001b[38;5;28;43mself\u001b[39;49m\u001b[38;5;241;43m.\u001b[39;49m\u001b[43mschema\u001b[49m\u001b[43m,\u001b[49m\u001b[43m \u001b[49m\u001b[38;5;28;43mself\u001b[39;49m\u001b[38;5;241;43m.\u001b[39;49m\u001b[43mcats\u001b[49m\u001b[43m,\u001b[49m\n\u001b[0;32m    390\u001b[0m \u001b[43m    \u001b[49m\u001b[43mselfmade\u001b[49m\u001b[38;5;241;43m=\u001b[39;49m\u001b[38;5;28;43mself\u001b[39;49m\u001b[38;5;241;43m.\u001b[39;49m\u001b[43mselfmade\u001b[49m\u001b[43m,\u001b[49m\u001b[43m \u001b[49m\u001b[43mindex\u001b[49m\u001b[38;5;241;43m=\u001b[39;49m\u001b[43mindex\u001b[49m\u001b[43m,\u001b[49m\n\u001b[0;32m    391\u001b[0m \u001b[43m    \u001b[49m\u001b[43massign\u001b[49m\u001b[38;5;241;43m=\u001b[39;49m\u001b[43massign\u001b[49m\u001b[43m,\u001b[49m\u001b[43m \u001b[49m\u001b[43mscheme\u001b[49m\u001b[38;5;241;43m=\u001b[39;49m\u001b[38;5;28;43mself\u001b[39;49m\u001b[38;5;241;43m.\u001b[39;49m\u001b[43mfile_scheme\u001b[49m\u001b[43m,\u001b[49m\u001b[43m \u001b[49m\u001b[43mpartition_meta\u001b[49m\u001b[38;5;241;43m=\u001b[39;49m\u001b[43mpartition_meta\u001b[49m\u001b[43m,\u001b[49m\n\u001b[0;32m    392\u001b[0m \u001b[43m    \u001b[49m\u001b[43mrow_filter\u001b[49m\u001b[38;5;241;43m=\u001b[39;49m\u001b[43mrow_filter\u001b[49m\n\u001b[0;32m    393\u001b[0m \u001b[43m\u001b[49m\u001b[43m)\u001b[49m\n\u001b[0;32m    394\u001b[0m \u001b[38;5;28;01mif\u001b[39;00m ret:\n\u001b[0;32m    395\u001b[0m     \u001b[38;5;28;01mreturn\u001b[39;00m df\n",
      "File \u001b[1;32mc:\\Users\\Maria\\anaconda3\\envs\\deep_learning\\Lib\\site-packages\\fastparquet\\core.py:644\u001b[0m, in \u001b[0;36mread_row_group\u001b[1;34m(file, rg, columns, categories, schema_helper, cats, selfmade, index, assign, scheme, partition_meta, row_filter)\u001b[0m\n\u001b[0;32m    642\u001b[0m \u001b[38;5;28;01mif\u001b[39;00m assign \u001b[38;5;129;01mis\u001b[39;00m \u001b[38;5;28;01mNone\u001b[39;00m:\n\u001b[0;32m    643\u001b[0m     \u001b[38;5;28;01mraise\u001b[39;00m \u001b[38;5;167;01mRuntimeError\u001b[39;00m(\u001b[38;5;124m'\u001b[39m\u001b[38;5;124mGoing with pre-allocation!\u001b[39m\u001b[38;5;124m'\u001b[39m)\n\u001b[1;32m--> 644\u001b[0m \u001b[43mread_row_group_arrays\u001b[49m\u001b[43m(\u001b[49m\u001b[43mfile\u001b[49m\u001b[43m,\u001b[49m\u001b[43m \u001b[49m\u001b[43mrg\u001b[49m\u001b[43m,\u001b[49m\u001b[43m \u001b[49m\u001b[43mcolumns\u001b[49m\u001b[43m,\u001b[49m\u001b[43m \u001b[49m\u001b[43mcategories\u001b[49m\u001b[43m,\u001b[49m\u001b[43m \u001b[49m\u001b[43mschema_helper\u001b[49m\u001b[43m,\u001b[49m\n\u001b[0;32m    645\u001b[0m \u001b[43m                      \u001b[49m\u001b[43mcats\u001b[49m\u001b[43m,\u001b[49m\u001b[43m \u001b[49m\u001b[43mselfmade\u001b[49m\u001b[43m,\u001b[49m\u001b[43m \u001b[49m\u001b[43massign\u001b[49m\u001b[38;5;241;43m=\u001b[39;49m\u001b[43massign\u001b[49m\u001b[43m,\u001b[49m\u001b[43m \u001b[49m\u001b[43mrow_filter\u001b[49m\u001b[38;5;241;43m=\u001b[39;49m\u001b[43mrow_filter\u001b[49m\u001b[43m)\u001b[49m\n\u001b[0;32m    647\u001b[0m \u001b[38;5;28;01mfor\u001b[39;00m cat \u001b[38;5;129;01min\u001b[39;00m cats:\n\u001b[0;32m    648\u001b[0m     \u001b[38;5;28;01mif\u001b[39;00m cat \u001b[38;5;129;01mnot\u001b[39;00m \u001b[38;5;129;01min\u001b[39;00m assign:\n\u001b[0;32m    649\u001b[0m         \u001b[38;5;66;03m# do no need to have partition columns in output\u001b[39;00m\n",
      "File \u001b[1;32mc:\\Users\\Maria\\anaconda3\\envs\\deep_learning\\Lib\\site-packages\\fastparquet\\core.py:615\u001b[0m, in \u001b[0;36mread_row_group_arrays\u001b[1;34m(file, rg, columns, categories, schema_helper, cats, selfmade, assign, row_filter)\u001b[0m\n\u001b[0;32m    612\u001b[0m     \u001b[38;5;28;01mcontinue\u001b[39;00m\n\u001b[0;32m    613\u001b[0m remains\u001b[38;5;241m.\u001b[39mdiscard(name)\n\u001b[1;32m--> 615\u001b[0m \u001b[43mread_col\u001b[49m\u001b[43m(\u001b[49m\u001b[43mcolumn\u001b[49m\u001b[43m,\u001b[49m\u001b[43m \u001b[49m\u001b[43mschema_helper\u001b[49m\u001b[43m,\u001b[49m\u001b[43m \u001b[49m\u001b[43mfile\u001b[49m\u001b[43m,\u001b[49m\u001b[43m \u001b[49m\u001b[43muse_cat\u001b[49m\u001b[38;5;241;43m=\u001b[39;49m\u001b[43mname\u001b[49m\u001b[38;5;241;43m+\u001b[39;49m\u001b[38;5;124;43m'\u001b[39;49m\u001b[38;5;124;43m-catdef\u001b[39;49m\u001b[38;5;124;43m'\u001b[39;49m\u001b[43m \u001b[49m\u001b[38;5;129;43;01min\u001b[39;49;00m\u001b[43m \u001b[49m\u001b[43mout\u001b[49m\u001b[43m,\u001b[49m\n\u001b[0;32m    616\u001b[0m \u001b[43m         \u001b[49m\u001b[43mselfmade\u001b[49m\u001b[38;5;241;43m=\u001b[39;49m\u001b[43mselfmade\u001b[49m\u001b[43m,\u001b[49m\u001b[43m \u001b[49m\u001b[43massign\u001b[49m\u001b[38;5;241;43m=\u001b[39;49m\u001b[43mout\u001b[49m\u001b[43m[\u001b[49m\u001b[43mname\u001b[49m\u001b[43m]\u001b[49m\u001b[43m,\u001b[49m\n\u001b[0;32m    617\u001b[0m \u001b[43m         \u001b[49m\u001b[43mcatdef\u001b[49m\u001b[38;5;241;43m=\u001b[39;49m\u001b[43mout\u001b[49m\u001b[38;5;241;43m.\u001b[39;49m\u001b[43mget\u001b[49m\u001b[43m(\u001b[49m\u001b[43mname\u001b[49m\u001b[38;5;241;43m+\u001b[39;49m\u001b[38;5;124;43m'\u001b[39;49m\u001b[38;5;124;43m-catdef\u001b[39;49m\u001b[38;5;124;43m'\u001b[39;49m\u001b[43m,\u001b[49m\u001b[43m \u001b[49m\u001b[38;5;28;43;01mNone\u001b[39;49;00m\u001b[43m)\u001b[49m\u001b[43m,\u001b[49m\n\u001b[0;32m    618\u001b[0m \u001b[43m         \u001b[49m\u001b[43mrow_filter\u001b[49m\u001b[38;5;241;43m=\u001b[39;49m\u001b[43mrow_filter\u001b[49m\u001b[43m)\u001b[49m\n\u001b[0;32m    620\u001b[0m \u001b[38;5;28;01mif\u001b[39;00m _is_map_like(schema_helper, column):\n\u001b[0;32m    621\u001b[0m     \u001b[38;5;66;03m# TODO: could be done in fast loop in _assemble_objects?\u001b[39;00m\n\u001b[0;32m    622\u001b[0m     \u001b[38;5;28;01mif\u001b[39;00m name \u001b[38;5;129;01mnot\u001b[39;00m \u001b[38;5;129;01min\u001b[39;00m maps:\n",
      "File \u001b[1;32mc:\\Users\\Maria\\anaconda3\\envs\\deep_learning\\Lib\\site-packages\\fastparquet\\core.py:510\u001b[0m, in \u001b[0;36mread_col\u001b[1;34m(column, schema_helper, infile, use_cat, selfmade, assign, catdef, row_filter)\u001b[0m\n\u001b[0;32m    507\u001b[0m     \u001b[38;5;28;01mraise\u001b[39;00m \u001b[38;5;167;01mTypeError\u001b[39;00m(\u001b[38;5;124m\"\u001b[39m\u001b[38;5;124mAttempt to load as categorical a column with no dictionary\u001b[39m\u001b[38;5;124m\"\u001b[39m)\n\u001b[0;32m    509\u001b[0m \u001b[38;5;28;01mif\u001b[39;00m ph\u001b[38;5;241m.\u001b[39mtype \u001b[38;5;241m==\u001b[39m parquet_thrift\u001b[38;5;241m.\u001b[39mPageType\u001b[38;5;241m.\u001b[39mDATA_PAGE_V2:\n\u001b[1;32m--> 510\u001b[0m     num \u001b[38;5;241m+\u001b[39m\u001b[38;5;241m=\u001b[39m \u001b[43mread_data_page_v2\u001b[49m\u001b[43m(\u001b[49m\u001b[43minfile\u001b[49m\u001b[43m,\u001b[49m\u001b[43m \u001b[49m\u001b[43mschema_helper\u001b[49m\u001b[43m,\u001b[49m\u001b[43m \u001b[49m\u001b[43mse\u001b[49m\u001b[43m,\u001b[49m\u001b[43m \u001b[49m\u001b[43mph\u001b[49m\u001b[38;5;241;43m.\u001b[39;49m\u001b[43mdata_page_header_v2\u001b[49m\u001b[43m,\u001b[49m\u001b[43m \u001b[49m\u001b[43mcmd\u001b[49m\u001b[43m,\u001b[49m\n\u001b[0;32m    511\u001b[0m \u001b[43m                             \u001b[49m\u001b[43mdic\u001b[49m\u001b[43m,\u001b[49m\u001b[43m \u001b[49m\u001b[43massign\u001b[49m\u001b[43m,\u001b[49m\u001b[43m \u001b[49m\u001b[43mnum\u001b[49m\u001b[43m,\u001b[49m\u001b[43m \u001b[49m\u001b[43muse_cat\u001b[49m\u001b[43m,\u001b[49m\u001b[43m \u001b[49m\u001b[43moff\u001b[49m\u001b[43m,\u001b[49m\u001b[43m \u001b[49m\u001b[43mph\u001b[49m\u001b[43m,\u001b[49m\u001b[43m \u001b[49m\u001b[43mrow_idx\u001b[49m\u001b[43m,\u001b[49m\u001b[43m \u001b[49m\u001b[43mselfmade\u001b[49m\u001b[38;5;241;43m=\u001b[39;49m\u001b[43mselfmade\u001b[49m\u001b[43m,\u001b[49m\n\u001b[0;32m    512\u001b[0m \u001b[43m                             \u001b[49m\u001b[43mrow_filter\u001b[49m\u001b[38;5;241;43m=\u001b[39;49m\u001b[43mrow_filter\u001b[49m\u001b[43m)\u001b[49m\n\u001b[0;32m    513\u001b[0m     \u001b[38;5;28;01mcontinue\u001b[39;00m\n\u001b[0;32m    514\u001b[0m \u001b[38;5;28;01mif\u001b[39;00m (selfmade \u001b[38;5;129;01mand\u001b[39;00m \u001b[38;5;28mhasattr\u001b[39m(cmd, \u001b[38;5;124m'\u001b[39m\u001b[38;5;124mstatistics\u001b[39m\u001b[38;5;124m'\u001b[39m) \u001b[38;5;129;01mand\u001b[39;00m\n\u001b[0;32m    515\u001b[0m         \u001b[38;5;28mgetattr\u001b[39m(cmd\u001b[38;5;241m.\u001b[39mstatistics, \u001b[38;5;124m'\u001b[39m\u001b[38;5;124mnull_count\u001b[39m\u001b[38;5;124m'\u001b[39m, \u001b[38;5;241m1\u001b[39m) \u001b[38;5;241m==\u001b[39m \u001b[38;5;241m0\u001b[39m):\n",
      "File \u001b[1;32mc:\\Users\\Maria\\anaconda3\\envs\\deep_learning\\Lib\\site-packages\\fastparquet\\core.py:321\u001b[0m, in \u001b[0;36mread_data_page_v2\u001b[1;34m(infile, schema_helper, se, data_header2, cmd, dic, assign, num, use_cat, file_offset, ph, idx, selfmade, row_filter)\u001b[0m\n\u001b[0;32m    319\u001b[0m                 assign[num:num\u001b[38;5;241m+\u001b[39mdata_header2\u001b[38;5;241m.\u001b[39mnum_values][\u001b[38;5;241m~\u001b[39mnulls[row_filter]] \u001b[38;5;241m=\u001b[39m convert(values, se)[row_filter[\u001b[38;5;241m~\u001b[39mnulls]]\n\u001b[0;32m    320\u001b[0m     \u001b[38;5;28;01melse\u001b[39;00m:\n\u001b[1;32m--> 321\u001b[0m         \u001b[43massign\u001b[49m\u001b[43m[\u001b[49m\u001b[43mnum\u001b[49m\u001b[43m:\u001b[49m\u001b[43mnum\u001b[49m\u001b[38;5;241;43m+\u001b[39;49m\u001b[43mdata_header2\u001b[49m\u001b[38;5;241;43m.\u001b[39;49m\u001b[43mnum_values\u001b[49m\u001b[43m]\u001b[49m \u001b[38;5;241m=\u001b[39m convert(values, se)[row_filter]\n\u001b[0;32m    322\u001b[0m \u001b[38;5;28;01melif\u001b[39;00m (use_cat \u001b[38;5;129;01mand\u001b[39;00m data_header2\u001b[38;5;241m.\u001b[39mencoding \u001b[38;5;129;01min\u001b[39;00m [\n\u001b[0;32m    323\u001b[0m     parquet_thrift\u001b[38;5;241m.\u001b[39mEncoding\u001b[38;5;241m.\u001b[39mPLAIN_DICTIONARY,\n\u001b[0;32m    324\u001b[0m     parquet_thrift\u001b[38;5;241m.\u001b[39mEncoding\u001b[38;5;241m.\u001b[39mRLE_DICTIONARY,\n\u001b[0;32m    325\u001b[0m ]) \u001b[38;5;129;01mor\u001b[39;00m (data_header2\u001b[38;5;241m.\u001b[39mencoding \u001b[38;5;241m==\u001b[39m parquet_thrift\u001b[38;5;241m.\u001b[39mEncoding\u001b[38;5;241m.\u001b[39mRLE):\n\u001b[0;32m    326\u001b[0m     \u001b[38;5;66;03m# DICTIONARY or BOOL direct decode RLE into output (no nulls)\u001b[39;00m\n\u001b[0;32m    327\u001b[0m     codec \u001b[38;5;241m=\u001b[39m cmd\u001b[38;5;241m.\u001b[39mcodec \u001b[38;5;28;01mif\u001b[39;00m data_header2\u001b[38;5;241m.\u001b[39mis_compressed \u001b[38;5;28;01melse\u001b[39;00m \u001b[38;5;124m\"\u001b[39m\u001b[38;5;124mUNCOMPRESSED\u001b[39m\u001b[38;5;124m\"\u001b[39m\n",
      "\u001b[1;31mValueError\u001b[0m: could not broadcast input array from shape (262036,) into shape (24724,)"
     ]
    }
   ],
   "source": [
    "from Data_loader import *"
   ]
  },
  {
   "cell_type": "code",
   "execution_count": 9,
   "metadata": {},
   "outputs": [],
   "source": [
    "import torch\n",
    "import torch.nn as nn\n",
    "import torch.nn.functional as F\n",
    "from torch.nn.utils.rnn import pad_sequence"
   ]
  },
  {
   "cell_type": "code",
   "execution_count": 12,
   "metadata": {},
   "outputs": [],
   "source": [
    "class AdditiveAttention(nn.Module):\n",
    "    def __init__(self, embed_size, attention_dim):\n",
    "        \n",
    "        super(AdditiveAttention, self).__init__()\n",
    "        self.V_w = nn.Linear(embed_size, attention_dim)  #weight and bias (vw)\n",
    "        self.q_w = nn.Parameter(torch.zeros(attention_dim))\n",
    "\n",
    "        #initializations\n",
    "        nn.init.xavier_uniform_(self.V_w.weight) \n",
    "        nn.init.zeros_(self.V_w.bias)\n",
    "        nn.init.xavier_uniform_(self.q_w.unsqueeze(0)) \n",
    "\n",
    "    def forward(self, h):\n",
    "        \n",
    "        #projection into attention space and tanh after\n",
    "        projection=self.V_w(h)#[batch_size, seq_length, attention_dim]\n",
    "        tanh_output=torch.tanh(projection)  #[batch_size, seq_length, attention_dim]\n",
    "\n",
    "        #attention scores and softmax to normalize scores and get weights\n",
    "        attention_scores=torch.matmul(tanh_output, self.q_w)  #[batch_size, seq_length]\n",
    "        attention_weights=F.softmax(attention_scores, dim=1)  #[batch_size, seq_length]\n",
    "\n",
    "        #weighted sum of h\n",
    "        attention_weights = attention_weights.unsqueeze(-1)  #[batch_size, seq_length, 1]\n",
    "        r_vector=torch.sum(attention_weights * h, dim=1)  #[batch_size, embed_size]\n",
    "\n",
    "        return r_vector"
   ]
  },
  {
   "cell_type": "code",
   "execution_count": 13,
   "metadata": {},
   "outputs": [],
   "source": [
    "class NewsEncoder(nn.Module):\n",
    "    def __init__(self, embed_size, heads, word_embedding_matrix,attention_dim):\n",
    "        super(NewsEncoder, self).__init__()\n",
    "        self.embedding = nn.Embedding.from_pretrained(word_embedding_matrix, freeze=False)\n",
    "        self.multi_head_attention = nn.MultiheadAttention(embed_dim=embed_size, num_heads=heads, batch_first=True)\n",
    "        self.additive_attention = AdditiveAttention(embed_size, attention_dim)\n",
    "        \n",
    "    def forward(self, x):\n",
    "        embedding = self.embedding(x)\n",
    "        attn_output, _ = self.multi_head_attention(embedding, embedding, embedding)\n",
    "        news_representation = self.additive_attention(attn_output)\n",
    "        return news_representation"
   ]
  },
  {
   "cell_type": "code",
   "execution_count": 1,
   "metadata": {},
   "outputs": [
    {
     "ename": "NameError",
     "evalue": "name 'glove_vectors' is not defined",
     "output_type": "error",
     "traceback": [
      "\u001b[1;31m---------------------------------------------------------------------------\u001b[0m",
      "\u001b[1;31mNameError\u001b[0m                                 Traceback (most recent call last)",
      "Cell \u001b[1;32mIn[1], line 3\u001b[0m\n\u001b[0;32m      1\u001b[0m \u001b[38;5;66;03m#test\u001b[39;00m\n\u001b[0;32m      2\u001b[0m \u001b[38;5;66;03m### Test news encoder\u001b[39;00m\n\u001b[1;32m----> 3\u001b[0m word_embedding_matrix \u001b[38;5;241m=\u001b[39m glove_vectors\n\u001b[0;32m      4\u001b[0m attention_dim\u001b[38;5;241m=\u001b[39m\u001b[38;5;241m200\u001b[39m\n\u001b[0;32m      5\u001b[0m \u001b[38;5;66;03m# Instantiate the model\u001b[39;00m\n",
      "\u001b[1;31mNameError\u001b[0m: name 'glove_vectors' is not defined"
     ]
    }
   ],
   "source": [
    "#test\n",
    "### Test news encoder\n",
    "word_embedding_matrix = glove_vectors\n",
    "attention_dim=200\n",
    "# Instantiate the model\n",
    "encoder = NewsEncoder(embed_size=300, heads=5, word_embedding_matrix=word_embedding_matrix,attention_dim=200)\n",
    "\n",
    "# Random input\n",
    "x = input_data_train.loc[5, 'candidate_news']\n",
    "\n",
    "tensor_list = [torch.tensor(sublist) for sublist in x]\n",
    "x = pad_sequence(tensor_list, batch_first=True, padding_value=0)\n",
    "\n",
    "# Forward pass\n",
    "output = encoder(x)\n",
    "print(\"output size\", output.shape)"
   ]
  }
 ],
 "metadata": {
  "kernelspec": {
   "display_name": "deep_learning",
   "language": "python",
   "name": "python3"
  },
  "language_info": {
   "codemirror_mode": {
    "name": "ipython",
    "version": 3
   },
   "file_extension": ".py",
   "mimetype": "text/x-python",
   "name": "python",
   "nbconvert_exporter": "python",
   "pygments_lexer": "ipython3",
   "version": "3.13.0"
  }
 },
 "nbformat": 4,
 "nbformat_minor": 2
}
