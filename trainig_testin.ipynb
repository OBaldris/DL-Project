{
 "cells": [
  {
   "cell_type": "code",
   "execution_count": 2,
   "metadata": {},
   "outputs": [
    {
     "name": "stderr",
     "output_type": "stream",
     "text": [
      "c:\\Users\\oriol\\anaconda3\\envs\\DL\\Lib\\site-packages\\tqdm\\auto.py:21: TqdmWarning: IProgress not found. Please update jupyter and ipywidgets. See https://ipywidgets.readthedocs.io/en/stable/user_install.html\n",
      "  from .autonotebook import tqdm as notebook_tqdm\n"
     ]
    },
    {
     "name": "stdout",
     "output_type": "stream",
     "text": [
      "Dataset: ebnerd_demo\n",
      "Loading GloVe vectors from saved file: ../Data/glove_vectors.pt\n",
      "\n",
      "\n",
      "Statistics for Train Dataset:\n",
      "Browsed News - Min: 5, Max: 1000, Mean: 182.61, Std: 180.37\n",
      "Candidate News - Min: 5, Max: 100, Mean: 11.24, Std: 7.92\n",
      "\n",
      "\n",
      "\n",
      "Statistics for Validation Dataset:\n",
      "Browsed News - Min: 5, Max: 1000, Mean: 276.52, Std: 219.08\n",
      "Candidate News - Min: 5, Max: 93, Mean: 12.03, Std: 9.32\n",
      "\n"
     ]
    },
    {
     "ename": "RuntimeError",
     "evalue": "[enforce fail at alloc_cpu.cpp:114] data. DefaultCPUAllocator: not enough memory: you tried to allocate 22387776000 bytes.",
     "output_type": "error",
     "traceback": [
      "\u001b[1;31m---------------------------------------------------------------------------\u001b[0m",
      "\u001b[1;31mRuntimeError\u001b[0m                              Traceback (most recent call last)",
      "Cell \u001b[1;32mIn[2], line 2\u001b[0m\n\u001b[0;32m      1\u001b[0m \u001b[38;5;28;01mfrom\u001b[39;00m \u001b[38;5;21;01mmodel\u001b[39;00m \u001b[38;5;28;01mimport\u001b[39;00m \u001b[38;5;241m*\u001b[39m\n\u001b[1;32m----> 2\u001b[0m \u001b[38;5;28;01mfrom\u001b[39;00m \u001b[38;5;21;01mdata_loader\u001b[39;00m \u001b[38;5;28;01mimport\u001b[39;00m \u001b[38;5;241m*\u001b[39m\n\u001b[0;32m      3\u001b[0m \u001b[38;5;28;01mfrom\u001b[39;00m \u001b[38;5;21;01mneg_sample\u001b[39;00m \u001b[38;5;28;01mimport\u001b[39;00m \u001b[38;5;241m*\u001b[39m\n\u001b[0;32m      4\u001b[0m \u001b[38;5;28;01mimport\u001b[39;00m \u001b[38;5;21;01mmatplotlib\u001b[39;00m\u001b[38;5;21;01m.\u001b[39;00m\u001b[38;5;21;01mpyplot\u001b[39;00m \u001b[38;5;28;01mas\u001b[39;00m \u001b[38;5;21;01mplt\u001b[39;00m\n",
      "File \u001b[1;32mc:\\Users\\oriol\\OneDrive\\Documentos\\dtu\\DL\\DL-project\\data_loader.py:341\u001b[0m\n\u001b[0;32m    338\u001b[0m     column \u001b[38;5;241m=\u001b[39m pad_sequence(column, batch_first\u001b[38;5;241m=\u001b[39m\u001b[38;5;28;01mTrue\u001b[39;00m, padding_value\u001b[38;5;241m=\u001b[39m\u001b[38;5;241m0\u001b[39m)\n\u001b[0;32m    339\u001b[0m     \u001b[38;5;28;01mreturn\u001b[39;00m column\n\u001b[1;32m--> 341\u001b[0m browsed_news_train \u001b[38;5;241m=\u001b[39m \u001b[43mtensor_pad\u001b[49m\u001b[43m(\u001b[49m\u001b[43minput_data_train\u001b[49m\u001b[43m[\u001b[49m\u001b[38;5;124;43m'\u001b[39;49m\u001b[38;5;124;43mbrowsed_news\u001b[39;49m\u001b[38;5;124;43m'\u001b[39;49m\u001b[43m]\u001b[49m\u001b[43m)\u001b[49m\n\u001b[0;32m    342\u001b[0m candidate_news_train \u001b[38;5;241m=\u001b[39m tensor_pad(input_data_train[\u001b[38;5;124m'\u001b[39m\u001b[38;5;124mcandidate_news\u001b[39m\u001b[38;5;124m'\u001b[39m])\n\u001b[0;32m    343\u001b[0m clicked_news_train \u001b[38;5;241m=\u001b[39m tensor_pad(input_data_train[\u001b[38;5;124m'\u001b[39m\u001b[38;5;124mclicked_idx\u001b[39m\u001b[38;5;124m'\u001b[39m])\n",
      "File \u001b[1;32mc:\\Users\\oriol\\OneDrive\\Documentos\\dtu\\DL\\DL-project\\data_loader.py:338\u001b[0m, in \u001b[0;36mtensor_pad\u001b[1;34m(column)\u001b[0m\n\u001b[0;32m    336\u001b[0m \u001b[38;5;28;01mdef\u001b[39;00m \u001b[38;5;21mtensor_pad\u001b[39m(column):\n\u001b[0;32m    337\u001b[0m     column \u001b[38;5;241m=\u001b[39m [torch\u001b[38;5;241m.\u001b[39mtensor(sublist) \u001b[38;5;28;01mfor\u001b[39;00m sublist \u001b[38;5;129;01min\u001b[39;00m column]\n\u001b[1;32m--> 338\u001b[0m     column \u001b[38;5;241m=\u001b[39m \u001b[43mpad_sequence\u001b[49m\u001b[43m(\u001b[49m\u001b[43mcolumn\u001b[49m\u001b[43m,\u001b[49m\u001b[43m \u001b[49m\u001b[43mbatch_first\u001b[49m\u001b[38;5;241;43m=\u001b[39;49m\u001b[38;5;28;43;01mTrue\u001b[39;49;00m\u001b[43m,\u001b[49m\u001b[43m \u001b[49m\u001b[43mpadding_value\u001b[49m\u001b[38;5;241;43m=\u001b[39;49m\u001b[38;5;241;43m0\u001b[39;49m\u001b[43m)\u001b[49m\n\u001b[0;32m    339\u001b[0m     \u001b[38;5;28;01mreturn\u001b[39;00m column\n",
      "File \u001b[1;32mc:\\Users\\oriol\\anaconda3\\envs\\DL\\Lib\\site-packages\\torch\\nn\\utils\\rnn.py:478\u001b[0m, in \u001b[0;36mpad_sequence\u001b[1;34m(sequences, batch_first, padding_value, padding_side)\u001b[0m\n\u001b[0;32m    474\u001b[0m         sequences \u001b[38;5;241m=\u001b[39m sequences\u001b[38;5;241m.\u001b[39munbind(\u001b[38;5;241m0\u001b[39m)  \u001b[38;5;66;03m# type: ignore[assignment]\u001b[39;00m\n\u001b[0;32m    476\u001b[0m \u001b[38;5;66;03m# assuming trailing dimensions and type of all the Tensors\u001b[39;00m\n\u001b[0;32m    477\u001b[0m \u001b[38;5;66;03m# in sequences are same and fetching those from sequences[0]\u001b[39;00m\n\u001b[1;32m--> 478\u001b[0m \u001b[38;5;28;01mreturn\u001b[39;00m \u001b[43mtorch\u001b[49m\u001b[38;5;241;43m.\u001b[39;49m\u001b[43m_C\u001b[49m\u001b[38;5;241;43m.\u001b[39;49m\u001b[43m_nn\u001b[49m\u001b[38;5;241;43m.\u001b[39;49m\u001b[43mpad_sequence\u001b[49m\u001b[43m(\u001b[49m\n\u001b[0;32m    479\u001b[0m \u001b[43m    \u001b[49m\u001b[43msequences\u001b[49m\u001b[43m,\u001b[49m\u001b[43m \u001b[49m\u001b[43mbatch_first\u001b[49m\u001b[43m,\u001b[49m\u001b[43m \u001b[49m\u001b[43mpadding_value\u001b[49m\u001b[43m,\u001b[49m\u001b[43m \u001b[49m\u001b[43mpadding_side\u001b[49m\u001b[43m  \u001b[49m\u001b[38;5;66;43;03m# type: ignore[arg-type]\u001b[39;49;00m\n\u001b[0;32m    480\u001b[0m \u001b[43m\u001b[49m\u001b[43m)\u001b[49m\n",
      "\u001b[1;31mRuntimeError\u001b[0m: [enforce fail at alloc_cpu.cpp:114] data. DefaultCPUAllocator: not enough memory: you tried to allocate 22387776000 bytes."
     ]
    }
   ],
   "source": [
    "from model import *\n",
    "from data_loader import *\n",
    "from neg_sample import *\n",
    "import matplotlib.pyplot as plt\n",
    "\n",
    "\n",
    "print('Starting training...')\n",
    "\n",
    "# Lightweight training loop for debugging\n",
    "# num_epochs = 20  # Number of epochs for testing\n",
    "# batch_size = 64  # Small batch size\n",
    "# subset_size = len(train_loader.dataset  # Use only a small subset of the dataset\n",
    "# K = 4  # Number of negative samples\n",
    "\n",
    "num_epochs = 10  # Number of epochs for testing\n",
    "batch_size = 32  # Small batch size\n",
    "K = 4  # Number of negative samples\n",
    "\n",
    "\n",
    "#model\n",
    "nrms_model=NRMS(embed_size=300, heads=15, word_embedding_matrix=glove_vectors, attention_dim=200)\n",
    "# Optimizer for model\n",
    "optimizer = torch.optim.Adam(nrms_model.parameters(), lr=0.001)\n",
    "\n",
    "# Initialize a list to store epoch losses\n",
    "epoch_losses = []\n",
    "\n",
    "nrms_model.train()\n",
    "epoch_loss = 0.0\n"
   ]
  },
  {
   "cell_type": "code",
   "execution_count": null,
   "metadata": {},
   "outputs": [],
   "source": [
    "batch = iter(train_loader)\n",
    "\n",
    "# Extract batch data\n",
    "user_histories = batch['browsed_news']  # [batch_size, num_browsed, num_words]\n",
    "candidate_news = batch['candidate_news']  # [batch_size, num_candidates, num_words]\n",
    "labels = batch['clicked_idx']  # [batch_size]\n",
    "\n",
    "print(f\"Size of user_histories: {user_histories.size()}\")\n",
    "print(f\"Size of candidate_news: {candidate_news.size()}\")        \n",
    "\n",
    "#get click prob\n",
    "click_prob=nrms_model(user_histories,candidate_news)\n"
   ]
  },
  {
   "cell_type": "code",
   "execution_count": null,
   "metadata": {},
   "outputs": [],
   "source": [
    "#get click prob of positive samples\n",
    "#one per batch \n",
    "no_batches, no_candidate_news = click_prob.size()\n",
    "positive_index = torch.arange(no_batches), torch.argmax(labels, dim=1)\n",
    "positive_sample = click_prob[positive_index]\n",
    "\n",
    "#get click prob of negative samples \n",
    "#more than one per batch\n",
    "mask=torch.ones_like(click_prob, dtype=torch.bool)\n",
    "mask[positive_index] = False\n",
    "negative_samples = click_prob[mask].view(no_batches, -1)\n",
    "\n",
    "#select K random negative samples\n",
    "if K > no_candidate_news:\n",
    "    raise ValueError(\"K cannot be larger than the size of the tensor.\")\n",
    "    \n",
    "#use randperm instead of randint so that we dont have repetitions\n",
    "random_negative_indices = torch.randperm(no_candidate_news)[:K] \n",
    "#neg samples for all users (using the same indexes)\n",
    "negative_samples = click_prob[:, random_negative_indices]  # [batch_size, K]\n",
    "\n",
    "#compute posterior prob for the possitive sample\n",
    "exp_pos=torch.exp(positive_sample)  # [batch_size]\n",
    "exp_neg=torch.exp(negative_samples)  # [batch_size, K]\n",
    "sum_exp_neg=torch.sum(exp_neg, dim=1)  # [batch_size]\n",
    "pi_positive=exp_pos/(exp_pos + sum_exp_neg)  # [batch_size]\n",
    "\n",
    "#average loss across the batch\n",
    "loss=-torch.log(pi_positive).mean()\n"
   ]
  },
  {
   "cell_type": "code",
   "execution_count": null,
   "metadata": {},
   "outputs": [],
   "source": [
    "\n",
    "\n",
    "#backward pass and optimization\n",
    "#clear previous gradients\n",
    "optimizer.zero_grad()  \n",
    "loss.backward()   \n",
    "#update parameters    \n",
    "optimizer.step()  \n",
    "\n",
    "#save loss value to calculate for the whole epoch\n",
    "epoch_loss += loss.item()"
   ]
  }
 ],
 "metadata": {
  "kernelspec": {
   "display_name": "DL",
   "language": "python",
   "name": "python3"
  },
  "language_info": {
   "codemirror_mode": {
    "name": "ipython",
    "version": 3
   },
   "file_extension": ".py",
   "mimetype": "text/x-python",
   "name": "python",
   "nbconvert_exporter": "python",
   "pygments_lexer": "ipython3",
   "version": "3.12.7"
  }
 },
 "nbformat": 4,
 "nbformat_minor": 2
}
